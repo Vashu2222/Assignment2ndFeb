{
 "cells": [
  {
   "cell_type": "code",
   "execution_count": 1,
   "id": "4f451888-04eb-48dd-a021-7239fe7226e0",
   "metadata": {},
   "outputs": [],
   "source": [
    "#While loop : In while loops, condition is checked first\n",
    "# if it evaluates to true, the body of the loop is executed, otherwise not."
   ]
  },
  {
   "cell_type": "code",
   "execution_count": 2,
   "id": "148946f3-c93b-4ec7-b1aa-679d7a6d9fa7",
   "metadata": {},
   "outputs": [
    {
     "name": "stdout",
     "output_type": "stream",
     "text": [
      "Vashu\n",
      "Vashu\n",
      "Vashu\n",
      "Vashu\n",
      "Vashu\n"
     ]
    }
   ],
   "source": [
    "i = 0\n",
    "while i < 5:\n",
    "    print(\"Vashu\")\n",
    "    i = i +1"
   ]
  },
  {
   "cell_type": "code",
   "execution_count": 3,
   "id": "f75b9741-bb0a-4e72-a834-c6d80e8c21cd",
   "metadata": {},
   "outputs": [],
   "source": [
    "# For Loop : a for loop is used to iterate through a sequence like list, tuple or string(iterables)"
   ]
  },
  {
   "cell_type": "code",
   "execution_count": 4,
   "id": "575fd7e1-dcc1-4c63-8431-75201c07a068",
   "metadata": {},
   "outputs": [
    {
     "name": "stdout",
     "output_type": "stream",
     "text": [
      "1\n",
      "2\n",
      "3\n",
      "4\n"
     ]
    }
   ],
   "source": [
    "l = [1,2,3,4]\n",
    "for item in l:\n",
    "    print(item)"
   ]
  },
  {
   "cell_type": "code",
   "execution_count": 5,
   "id": "2748e6b0-1841-4066-a4e8-e3e85e6f4edf",
   "metadata": {},
   "outputs": [],
   "source": [
    "# question 2 :"
   ]
  },
  {
   "cell_type": "code",
   "execution_count": 12,
   "id": "e1b22bad-2584-4872-a487-79c828a3a344",
   "metadata": {},
   "outputs": [
    {
     "name": "stdout",
     "output_type": "stream",
     "text": [
      "sum of 1st 10 natural number is : 55\n"
     ]
    }
   ],
   "source": [
    "sum = 0\n",
    "for i in range(1,11):\n",
    "    sum +=i\n",
    "print(\"sum of 1st 10 natural number is :\" , sum)"
   ]
  },
  {
   "cell_type": "code",
   "execution_count": 13,
   "id": "b007f18f-54ae-48bd-b3e9-69e0e2842e3a",
   "metadata": {},
   "outputs": [],
   "source": [
    "# Question 3:"
   ]
  },
  {
   "cell_type": "code",
   "execution_count": 9,
   "id": "77419efc-f11a-4660-9097-38b9f31ed984",
   "metadata": {},
   "outputs": [
    {
     "name": "stdin",
     "output_type": "stream",
     "text": [
      "Enter your unit : 310\n"
     ]
    },
    {
     "name": "stdout",
     "output_type": "stream",
     "text": [
      "bill per unit: 2250\n"
     ]
    }
   ],
   "source": [
    "unit = int(input(\"Enter your unit :\"))\n",
    "if unit <= 100:\n",
    "    bill = unit * 4.5\n",
    "elif unit >= 101 and unit <= 200 :\n",
    "    bill = 450 + ((unit - 100) * 6)\n",
    "elif unit >= 201 and unit <= 300 :\n",
    "    bill = 450 + 600 + ((unit - 200) * 10)\n",
    "else :\n",
    "    bill = 450 + 600 +1000 + ((unit - 300) * 20)\n",
    "print(\"bill per unit:\" , bill)"
   ]
  },
  {
   "cell_type": "code",
   "execution_count": 10,
   "id": "7e0c3f8d-eb32-44bd-bb3a-257979bff0c9",
   "metadata": {},
   "outputs": [],
   "source": [
    "# Question 4th"
   ]
  },
  {
   "cell_type": "code",
   "execution_count": 43,
   "id": "50ecbcca-254a-4dc1-b3d7-c3650578a62b",
   "metadata": {},
   "outputs": [
    {
     "name": "stdout",
     "output_type": "stream",
     "text": [
      "[2, 4, 5, 6, 8, 10, 12, 14, 15, 16, 18, 20, 22, 24, 25, 26, 28, 30, 32, 34, 35, 36, 38, 40, 42, 44, 45, 46, 48, 50, 52, 54, 55, 56, 58, 60, 62, 64, 65, 66, 68, 70, 72, 74, 75, 76, 78, 80, 82, 84, 85, 86, 88, 90, 92, 94, 95, 96, 98, 100]\n"
     ]
    }
   ],
   "source": [
    "result_list = []\n",
    "for i in range(1, 101):\n",
    "    cube = i ** 3\n",
    "    if cube % 4 == 0 or cube % 5 == 0:\n",
    "        result_list.append(i)\n",
    "print(result_list)"
   ]
  },
  {
   "cell_type": "code",
   "execution_count": 21,
   "id": "e8df0390-ecfb-4699-be7f-bb058a3ede8f",
   "metadata": {},
   "outputs": [],
   "source": [
    "# Question 5th :"
   ]
  },
  {
   "cell_type": "code",
   "execution_count": 37,
   "id": "940e4349-dc95-44f8-ac50-3ff47e87524e",
   "metadata": {},
   "outputs": [
    {
     "name": "stdout",
     "output_type": "stream",
     "text": [
      "number of vowels in the given string is :  12\n"
     ]
    }
   ],
   "source": [
    "s = \"i want to become a data scientist\"\n",
    "count = 0\n",
    "vowels = [\"a\" , \"e\" , \"i\" , \"o\", \"u\"]\n",
    "for i in range(len(s)):\n",
    "    if s[i] in vowels:\n",
    "        count += 1\n",
    "print(\"number of vowels in the given string is : \" , count)"
   ]
  },
  {
   "cell_type": "code",
   "execution_count": null,
   "id": "55c93b6c-4907-4870-91c4-4bdf6d05f978",
   "metadata": {},
   "outputs": [],
   "source": []
  }
 ],
 "metadata": {
  "kernelspec": {
   "display_name": "Python 3 (ipykernel)",
   "language": "python",
   "name": "python3"
  },
  "language_info": {
   "codemirror_mode": {
    "name": "ipython",
    "version": 3
   },
   "file_extension": ".py",
   "mimetype": "text/x-python",
   "name": "python",
   "nbconvert_exporter": "python",
   "pygments_lexer": "ipython3",
   "version": "3.10.8"
  }
 },
 "nbformat": 4,
 "nbformat_minor": 5
}
